{
 "cells": [
  {
   "cell_type": "markdown",
   "metadata": {},
   "source": [
    "### Create data structure for block:\n",
    "\n",
    "block 'metadata':\n",
    "* index - each block is numbered (has it's index)\n",
    "* timestamp - block creation time needed for conflict resolution\n",
    "* previous hash - `signature` of previous block in chain\n",
    "* hash - `signature` of this block\n",
    "\n",
    "data stored in block:\n",
    "* data - actual 'payload' of the block\n",
    "\n",
    "The `hasher` aggregate all elements of block (except this block hash) and calculates hash."
   ]
  },
  {
   "cell_type": "code",
   "execution_count": 16,
   "metadata": {},
   "outputs": [],
   "source": [
    "import hashlib as hasher\n",
    "\n",
    "class Block:\n",
    "    def __init__(self, index, timestamp, data, previous_hash):\n",
    "        self.index = index\n",
    "        self.timestamp = timestamp\n",
    "        self.data = data\n",
    "        self.previous_hash = previous_hash\n",
    "        self.hash = self.hash_block()\n",
    "\n",
    "    def hash_block(self):\n",
    "        sha = hasher.sha256()\n",
    "        sha.update((str(self.index) + \n",
    "                   str(self.timestamp) + \n",
    "                   str(self.data) + \n",
    "                   str(self.previous_hash)).encode('utf-8'))\n",
    "        return sha.hexdigest()"
   ]
  },
  {
   "cell_type": "markdown",
   "metadata": {},
   "source": [
    "First block in chain is different from the rest in that sense that it has no predecessor - there is no previous block."
   ]
  },
  {
   "cell_type": "code",
   "execution_count": 17,
   "metadata": {},
   "outputs": [],
   "source": [
    "import datetime as date\n",
    "\n",
    "def create_genesis_block():\n",
    "    # Manually construct a block with\n",
    "    # index zero and arbitrary previous hash\n",
    "    return Block(0, date.datetime.now(), \"Genesis Block\", \"0\")"
   ]
  },
  {
   "cell_type": "markdown",
   "metadata": {},
   "source": [
    "Create next block based on last block"
   ]
  },
  {
   "cell_type": "code",
   "execution_count": 18,
   "metadata": {},
   "outputs": [],
   "source": [
    "def next_block(last_block):\n",
    "    this_index = last_block.index + 1\n",
    "    this_timestamp = date.datetime.now()\n",
    "    this_data = \"Hey! I'm block \" + str(this_index)\n",
    "    this_hash = last_block.hash\n",
    "    return Block(this_index, this_timestamp, this_data, this_hash)"
   ]
  },
  {
   "cell_type": "code",
   "execution_count": 20,
   "metadata": {},
   "outputs": [
    {
     "name": "stdout",
     "output_type": "stream",
     "text": [
      "Block #1 has been added to the blockchain!\n",
      "Block #2 has been added to the blockchain!\n",
      "Block #3 has been added to the blockchain!\n",
      "Block #4 has been added to the blockchain!\n",
      "Block #5 has been added to the blockchain!\n",
      "Block #6 has been added to the blockchain!\n",
      "Block #7 has been added to the blockchain!\n",
      "Block #8 has been added to the blockchain!\n",
      "Block #9 has been added to the blockchain!\n",
      "Block #10 has been added to the blockchain!\n",
      "Block #11 has been added to the blockchain!\n",
      "Block #12 has been added to the blockchain!\n",
      "Block #13 has been added to the blockchain!\n",
      "Block #14 has been added to the blockchain!\n",
      "Block #15 has been added to the blockchain!\n",
      "Block #16 has been added to the blockchain!\n",
      "Block #17 has been added to the blockchain!\n",
      "Block #18 has been added to the blockchain!\n",
      "Block #19 has been added to the blockchain!\n",
      "Block #20 has been added to the blockchain!\n",
      "Hash: 5e42ea93c320918274453cbbcb0761a6a5c26fbf505b16340c256aae8d95a795\n",
      "\n"
     ]
    }
   ],
   "source": [
    "# Create the blockchain and add the genesis block\n",
    "blockchain = [create_genesis_block()]\n",
    "previous_block = blockchain[0]\n",
    "\n",
    "# lenght of the blockchain (excluding genesis block)\n",
    "num_of_blocks_to_add = 20\n",
    "\n",
    "# Add blocks to the chain\n",
    "for i in range(0, num_of_blocks_to_add):\n",
    "    block_to_add = next_block(previous_block)\n",
    "    blockchain.append(block_to_add)\n",
    "    previous_block = block_to_add\n",
    "    print(\"Block #{} has been added to the blockchain!\".format(block_to_add.index))\n",
    "print (\"Hash: {}\\n\".format(block_to_add.hash))"
   ]
  },
  {
   "cell_type": "code",
   "execution_count": null,
   "metadata": {},
   "outputs": [],
   "source": []
  },
  {
   "cell_type": "code",
   "execution_count": null,
   "metadata": {},
   "outputs": [],
   "source": []
  }
 ],
 "metadata": {
  "kernelspec": {
   "display_name": "Python 3",
   "language": "python",
   "name": "python3"
  },
  "language_info": {
   "codemirror_mode": {
    "name": "ipython",
    "version": 3
   },
   "file_extension": ".py",
   "mimetype": "text/x-python",
   "name": "python",
   "nbconvert_exporter": "python",
   "pygments_lexer": "ipython3",
   "version": "3.6.4"
  }
 },
 "nbformat": 4,
 "nbformat_minor": 2
}
