{
 "cells": [
  {
   "cell_type": "code",
   "execution_count": null,
   "id": "2e614590",
   "metadata": {},
   "outputs": [
    {
     "name": "stdout",
     "output_type": "stream",
     "text": [
      "(100, 10)\n",
      "(100, 3)\n"
     ]
    }
   ],
   "source": [
    "import numpy as np\n",
    "from sklearn.manifold import TSNE\n",
    "from plotly import graph_objs as go\n",
    "\n",
    "# generate 10-dimensional data\n",
    "X = np.random.rand(100, 10)\n",
    "print(X.shape)\n",
    "\n",
    "# reduce to 3 components\n",
    "X_embedded = TSNE(n_components=3).fit_transform(X)\n",
    "print(X_embedded.shape)\n",
    "\n",
    "# indices for classes\n",
    "indices = (list(range(50)), list(range(50,100)),)\n",
    "class_1_indices, class_2_indices = indices\n",
    "\n",
    "# prepare plot for class \"1\"\n",
    "trace1 = go.Scatter3d(\n",
    "    x=X_embedded[class_1_indices, 0],\n",
    "    y=X_embedded[class_1_indices, 1],\n",
    "    z=X_embedded[class_1_indices, 2],\n",
    "    mode='markers',\n",
    "    marker=dict(color='rgb(0,127,0)', size=3, opacity=0.5),\n",
    ")\n",
    "\n",
    "# prepare plot for class \"2\"\n",
    "trace2 = go.Scatter3d(\n",
    "    x=X_embedded[class_2_indices, 0],\n",
    "    y=X_embedded[class_2_indices, 1],\n",
    "    z=X_embedded[class_2_indices, 2],\n",
    "    mode='markers',\n",
    "    marker=dict(color='rgb(127,0,0)', size=3, opacity=0.5),\n",
    ")\n",
    "\n",
    "# finalize plot\n",
    "layout = dict(height=600, width=600)\n",
    "data = [trace1, trace2]\n",
    "fig = go.Figure(data=data, layout=layout)\n",
    "fig.show()"
   ]
  },
  {
   "cell_type": "code",
   "execution_count": 5,
   "id": "65222232",
   "metadata": {},
   "outputs": [],
   "source": [
    "d = {'cannot specify': {'confidence': 0.29, 'page': 'cannot specify'}}"
   ]
  },
  {
   "cell_type": "code",
   "execution_count": 6,
   "id": "96f756b9",
   "metadata": {},
   "outputs": [
    {
     "data": {
      "text/plain": [
       "{'cannot specify': {'confidence': 0.29, 'page': 'cannot specify'}}"
      ]
     },
     "execution_count": 6,
     "metadata": {},
     "output_type": "execute_result"
    }
   ],
   "source": [
    "d"
   ]
  },
  {
   "cell_type": "code",
   "execution_count": 9,
   "id": "290126e7",
   "metadata": {},
   "outputs": [
    {
     "data": {
      "text/plain": [
       "dict_keys(['cannot specify'])"
      ]
     },
     "execution_count": 9,
     "metadata": {},
     "output_type": "execute_result"
    }
   ],
   "source": [
    "d.keys()"
   ]
  },
  {
   "cell_type": "code",
   "execution_count": null,
   "id": "e24b8c57",
   "metadata": {},
   "outputs": [],
   "source": []
  }
 ],
 "metadata": {
  "hide_input": false,
  "kernelspec": {
   "display_name": "crop_forecasting",
   "language": "python",
   "name": "crop_forecasting"
  },
  "language_info": {
   "codemirror_mode": {
    "name": "ipython",
    "version": 3
   },
   "file_extension": ".py",
   "mimetype": "text/x-python",
   "name": "python",
   "nbconvert_exporter": "python",
   "pygments_lexer": "ipython3",
   "version": "3.9.16"
  },
  "toc": {
   "base_numbering": 1,
   "nav_menu": {},
   "number_sections": false,
   "sideBar": true,
   "skip_h1_title": false,
   "title_cell": "Table of Contents",
   "title_sidebar": "Contents",
   "toc_cell": false,
   "toc_position": {},
   "toc_section_display": true,
   "toc_window_display": false
  }
 },
 "nbformat": 4,
 "nbformat_minor": 5
}
