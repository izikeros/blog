{
 "cells": [
  {
   "cell_type": "markdown",
   "id": "22614b14",
   "metadata": {},
   "source": [
    "# Prepare animated gif wit recorded screen"
   ]
  },
  {
   "cell_type": "markdown",
   "id": "456ffa0d",
   "metadata": {},
   "source": [
    "## Record a video\n",
    "- on mac use shift\n",
    "- resolution 980px (need to rescale to 720px) or 720px\n",
    "- rename \"Screen Recording ...\" to some shorter name without spaces\n",
    "- trim beggining and end of video if needed using \"QuickTime Player\" (Command + T) or menu \"Edit -> Trim\", Save"
   ]
  },
  {
   "cell_type": "code",
   "execution_count": 2,
   "id": "4e433a7e",
   "metadata": {},
   "outputs": [],
   "source": [
    "from pathlib import Path"
   ]
  },
  {
   "cell_type": "code",
   "execution_count": 78,
   "id": "802a8b89",
   "metadata": {},
   "outputs": [],
   "source": [
    "# location where videos are stored\n",
    "pth = Path('/Users/krystian.safjan/Desktop')\n",
    "\n",
    "# trimmed video file:\n",
    "fname = 'copilot_1.mov'\n",
    "\n",
    "full_file = pth / fname"
   ]
  },
  {
   "cell_type": "code",
   "execution_count": 79,
   "id": "46f133b0",
   "metadata": {},
   "outputs": [
    {
     "name": "stdout",
     "output_type": "stream",
     "text": [
      "-rw-r--r-- 1 krystian.safjan staff 1.3M Jan 24 16:56 /Users/krystian.safjan/Desktop/copilot_1.mov\r\n"
     ]
    }
   ],
   "source": [
    "!ls -lh $full_file"
   ]
  },
  {
   "cell_type": "markdown",
   "id": "1f4a19b4",
   "metadata": {},
   "source": [
    "# Speed-up video 5x (1/5 = 0.2)\n",
    "- speedup factor: inverse of speed up: e.g. for speedup 5x use 1/5=0.2 factor\n",
    "- `-y` force overwrite if file exists\n",
    "- `-loglevel error` - less verbose output"
   ]
  },
  {
   "cell_type": "code",
   "execution_count": 80,
   "id": "6dbfea32",
   "metadata": {},
   "outputs": [],
   "source": [
    "full_file_speedup = pth / f\"up_{fname}\""
   ]
  },
  {
   "cell_type": "code",
   "execution_count": 81,
   "id": "8b979e5f",
   "metadata": {},
   "outputs": [
    {
     "name": "stderr",
     "output_type": "stream",
     "text": [
      "frame=    1 fps=0.0 q=0.0 size=       0kB time=00:00:00.00 bitrate=N/A speed=   0x    \r",
      "frame=  479 fps=0.0 q=31.0 size=       0kB time=00:00:06.90 bitrate=   0.0kbits/s dup=0 drop=965 speed=13.4x    \r",
      "frame=  987 fps=972 q=31.0 size=       0kB time=00:00:15.36 bitrate=   0.0kbits/s dup=0 drop=1996 speed=15.1x    \r",
      "frame= 1067 fps=955 q=-1.0 Lsize=     143kB time=00:00:17.73 bitrate=  66.0kbits/s dup=0 drop=2160 speed=15.9x    \n"
     ]
    }
   ],
   "source": [
    "%%bash -s \"$full_file\" \"$full_file_speedup\"\n",
    "ffmpeg -y -loglevel quiet -stats -i $1 -vf \"setpts=0.33*PTS\" $2"
   ]
  },
  {
   "cell_type": "code",
   "execution_count": 82,
   "id": "e832d662",
   "metadata": {},
   "outputs": [
    {
     "name": "stdout",
     "output_type": "stream",
     "text": [
      "-rw-r--r-- 1 krystian.safjan staff 143K Jan 25 10:42 /Users/krystian.safjan/Desktop/up_copilot_1.mov\r\n"
     ]
    }
   ],
   "source": [
    "!ls -lh $full_file_speedup"
   ]
  },
  {
   "cell_type": "markdown",
   "id": "57a6cf01",
   "metadata": {},
   "source": [
    "# Convert to gif with resize \n",
    "to understand what is happening read: https://engineering.giphy.com/how-to-make-gifs-with-ffmpeg/"
   ]
  },
  {
   "cell_type": "code",
   "execution_count": 83,
   "id": "77c681b9",
   "metadata": {},
   "outputs": [
    {
     "data": {
      "text/plain": [
       "PosixPath('/Users/krystian.safjan/Desktop/copilot_1.gif')"
      ]
     },
     "execution_count": 83,
     "metadata": {},
     "output_type": "execute_result"
    }
   ],
   "source": [
    "import os\n",
    "file, ext = os.path.splitext(fname)\n",
    "full_file_output = pth / f\"{file}.gif\"\n",
    "full_file_output"
   ]
  },
  {
   "cell_type": "code",
   "execution_count": 84,
   "id": "d33171d0",
   "metadata": {},
   "outputs": [
    {
     "name": "stderr",
     "output_type": "stream",
     "text": [
      "frame=    1 fps=0.0 q=-0.0 size=       0kB time=00:00:00.01 bitrate=   0.0kbits/s speed=0.033x    \r",
      "frame=   71 fps=0.0 q=-0.0 Lsize=     257kB time=00:00:17.51 bitrate= 120.1kbits/s speed=22.4x    \n"
     ]
    }
   ],
   "source": [
    "%%bash -s \"$full_file_speedup\" \"$palette_file\" \"$full_file_output\"\n",
    "ffmpeg -y -loglevel quiet -stats -i $1 -i $2 -filter_complex \"[0:v] fps=4,scale=720:-1,split [a][b];[a] palettegen [p];[b][p] paletteuse\" $3"
   ]
  },
  {
   "cell_type": "code",
   "execution_count": 85,
   "id": "aa6e34ec",
   "metadata": {},
   "outputs": [
    {
     "name": "stdout",
     "output_type": "stream",
     "text": [
      "-rw-r--r-- 1 krystian.safjan staff 257K Jan 25 10:42 /Users/krystian.safjan/Desktop/copilot_1.gif\r\n"
     ]
    }
   ],
   "source": [
    "!ls -lh $full_file_output"
   ]
  },
  {
   "cell_type": "code",
   "execution_count": null,
   "id": "0182d2a3",
   "metadata": {},
   "outputs": [],
   "source": []
  }
 ],
 "metadata": {
  "hide_input": false,
  "kernelspec": {
   "display_name": "Python 3 (ipykernel)",
   "language": "python",
   "name": "python3"
  },
  "language_info": {
   "codemirror_mode": {
    "name": "ipython",
    "version": 3
   },
   "file_extension": ".py",
   "mimetype": "text/x-python",
   "name": "python",
   "nbconvert_exporter": "python",
   "pygments_lexer": "ipython3",
   "version": "3.9.10"
  },
  "toc": {
   "base_numbering": 1,
   "nav_menu": {},
   "number_sections": true,
   "sideBar": true,
   "skip_h1_title": false,
   "title_cell": "Table of Contents",
   "title_sidebar": "Contents",
   "toc_cell": false,
   "toc_position": {},
   "toc_section_display": true,
   "toc_window_display": false
  }
 },
 "nbformat": 4,
 "nbformat_minor": 5
}
