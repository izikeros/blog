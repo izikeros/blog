{
 "cells": [
  {
   "cell_type": "code",
   "execution_count": 3,
   "id": "d3aee937",
   "metadata": {},
   "outputs": [],
   "source": [
    "import git\n",
    "import os\n",
    "import sys\n",
    "import pandas as pd\n",
    "import matplotlib as mpl\n",
    "import matplotlib.pyplot as plt"
   ]
  },
  {
   "cell_type": "code",
   "execution_count": 5,
   "id": "8cb17f15",
   "metadata": {},
   "outputs": [
    {
     "data": {
      "text/plain": [
       "'/Users/krystian.safjan/projects/priv/blog'"
      ]
     },
     "execution_count": 5,
     "metadata": {},
     "output_type": "execute_result"
    }
   ],
   "source": [
    "pwd"
   ]
  },
  {
   "cell_type": "code",
   "execution_count": 6,
   "id": "13d4b586",
   "metadata": {},
   "outputs": [
    {
     "data": {
      "image/png": "[encoded data removed]",
      "text/plain": [
       "<Figure size 432x288 with 1 Axes>"
      ]
     },
     "metadata": {
      "needs_background": "light"
     },
     "output_type": "display_data"
    }
   ],
   "source": [
    "git_dir='.'\n",
    "branch='master'\n",
    "try:\n",
    "    repo = git.repo.Repo(git_dir)\n",
    "except:\n",
    "    print(\"Exception of type: {}\\nDir. not a valid git project: {}\".\n",
    "          format(sys.exc_info()[0], git_dir))\n",
    "    exit()\n",
    "\n",
    "data = []\n",
    "for i in reversed(list(repo.iter_commits(rev=branch))):\n",
    "    diff = i.stats.total\n",
    "    data.append([i.committed_datetime.isoformat(),\n",
    "                 diff['insertions'],\n",
    "                 diff['deletions']])\n",
    "\n",
    "data = pd.DataFrame(data, columns=[\"date\", \"add\", \"remove\"])\n",
    "data['delta'] = data['add'] - data['remove']\n",
    "data['total'] = data.delta.cumsum()\n",
    "data.date = pd.to_datetime(data.date)\n",
    "data.set_index(['date'], inplace=True)\n",
    "\n",
    "plt.figure(\"Code Lines Progress in project {}\".\n",
    "           format(os.path.basename(git_dir)))\n",
    "plt.ylabel(\"# of lines\")\n",
    "ax = data['total'].plot()\n",
    "ax.yaxis.set_major_formatter(mpl.ticker.StrMethodFormatter('{x:,.0f}'))\n",
    "plt.show()"
   ]
  },
  {
   "cell_type": "code",
   "execution_count": 7,
   "id": "ba944d53",
   "metadata": {},
   "outputs": [
    {
     "data": {
      "text/html": [
       "<div>\n",
       "<style scoped>\n",
       "    .dataframe tbody tr th:only-of-type {\n",
       "        vertical-align: middle;\n",
       "    }\n",
       "\n",
       "    .dataframe tbody tr th {\n",
       "        vertical-align: top;\n",
       "    }\n",
       "\n",
       "    .dataframe thead th {\n",
       "        text-align: right;\n",
       "    }\n",
       "</style>\n",
       "<table border=\"1\" class=\"dataframe\">\n",
       "  <thead>\n",
       "    <tr style=\"text-align: right;\">\n",
       "      <th></th>\n",
       "      <th>add</th>\n",
       "      <th>remove</th>\n",
       "      <th>delta</th>\n",
       "      <th>total</th>\n",
       "    </tr>\n",
       "    <tr>\n",
       "      <th>date</th>\n",
       "      <th></th>\n",
       "      <th></th>\n",
       "      <th></th>\n",
       "      <th></th>\n",
       "    </tr>\n",
       "  </thead>\n",
       "  <tbody>\n",
       "    <tr>\n",
       "      <th>2018-01-11 13:04:58+01:00</th>\n",
       "      <td>679</td>\n",
       "      <td>0</td>\n",
       "      <td>679</td>\n",
       "      <td>679</td>\n",
       "    </tr>\n",
       "    <tr>\n",
       "      <th>2018-01-11 13:07:17+01:00</th>\n",
       "      <td>771</td>\n",
       "      <td>32</td>\n",
       "      <td>739</td>\n",
       "      <td>1418</td>\n",
       "    </tr>\n",
       "    <tr>\n",
       "      <th>2018-01-11 13:10:43+01:00</th>\n",
       "      <td>1</td>\n",
       "      <td>1</td>\n",
       "      <td>0</td>\n",
       "      <td>1418</td>\n",
       "    </tr>\n",
       "    <tr>\n",
       "      <th>2018-01-11 13:12:26+01:00</th>\n",
       "      <td>71</td>\n",
       "      <td>71</td>\n",
       "      <td>0</td>\n",
       "      <td>1418</td>\n",
       "    </tr>\n",
       "    <tr>\n",
       "      <th>2018-03-27 11:31:07+02:00</th>\n",
       "      <td>18327</td>\n",
       "      <td>1379</td>\n",
       "      <td>16948</td>\n",
       "      <td>18366</td>\n",
       "    </tr>\n",
       "    <tr>\n",
       "      <th>...</th>\n",
       "      <td>...</td>\n",
       "      <td>...</td>\n",
       "      <td>...</td>\n",
       "      <td>...</td>\n",
       "    </tr>\n",
       "    <tr>\n",
       "      <th>2022-05-06 15:18:12+02:00</th>\n",
       "      <td>18042</td>\n",
       "      <td>2806</td>\n",
       "      <td>15236</td>\n",
       "      <td>129973</td>\n",
       "    </tr>\n",
       "    <tr>\n",
       "      <th>2022-05-06 15:21:47+02:00</th>\n",
       "      <td>26589</td>\n",
       "      <td>17132</td>\n",
       "      <td>9457</td>\n",
       "      <td>139430</td>\n",
       "    </tr>\n",
       "    <tr>\n",
       "      <th>2022-05-06 15:29:25+02:00</th>\n",
       "      <td>2</td>\n",
       "      <td>0</td>\n",
       "      <td>2</td>\n",
       "      <td>139432</td>\n",
       "    </tr>\n",
       "    <tr>\n",
       "      <th>2022-05-06 17:43:11+02:00</th>\n",
       "      <td>14</td>\n",
       "      <td>13</td>\n",
       "      <td>1</td>\n",
       "      <td>139433</td>\n",
       "    </tr>\n",
       "    <tr>\n",
       "      <th>2022-06-02 22:49:37+02:00</th>\n",
       "      <td>36903</td>\n",
       "      <td>64303</td>\n",
       "      <td>-27400</td>\n",
       "      <td>112033</td>\n",
       "    </tr>\n",
       "  </tbody>\n",
       "</table>\n",
       "<p>234 rows × 4 columns</p>\n",
       "</div>"
      ],
      "text/plain": [
       "                             add  remove  delta   total\n",
       "date                                                   \n",
       "2018-01-11 13:04:58+01:00    679       0    679     679\n",
       "2018-01-11 13:07:17+01:00    771      32    739    1418\n",
       "2018-01-11 13:10:43+01:00      1       1      0    1418\n",
       "2018-01-11 13:12:26+01:00     71      71      0    1418\n",
       "2018-03-27 11:31:07+02:00  18327    1379  16948   18366\n",
       "...                          ...     ...    ...     ...\n",
       "2022-05-06 15:18:12+02:00  18042    2806  15236  129973\n",
       "2022-05-06 15:21:47+02:00  26589   17132   9457  139430\n",
       "2022-05-06 15:29:25+02:00      2       0      2  139432\n",
       "2022-05-06 17:43:11+02:00     14      13      1  139433\n",
       "2022-06-02 22:49:37+02:00  36903   64303 -27400  112033\n",
       "\n",
       "[234 rows x 4 columns]"
      ]
     },
     "execution_count": 7,
     "metadata": {},
     "output_type": "execute_result"
    }
   ],
   "source": [
    "data"
   ]
  },
  {
   "cell_type": "code",
   "execution_count": null,
   "id": "8405b341",
   "metadata": {},
   "outputs": [],
   "source": []
  }
 ],
 "metadata": {
  "kernelspec": {
   "display_name": "comm",
   "language": "python",
   "name": "comm"
  },
  "language_info": {
   "codemirror_mode": {
    "name": "ipython",
    "version": 3
   },
   "file_extension": ".py",
   "mimetype": "text/x-python",
   "name": "python",
   "nbconvert_exporter": "python",
   "pygments_lexer": "ipython3",
   "version": "3.9.13"
  }
 },
 "nbformat": 4,
 "nbformat_minor": 5
}
