{
 "cells": [
  {
   "cell_type": "code",
   "execution_count": 5,
   "id": "4444ffff",
   "metadata": {},
   "outputs": [],
   "source": [
    "import pandas as pd\n",
    "\n",
    "df = pd.read_csv(\"https://archive.ics.uci.edu/ml/machine-learning-databases/adult/adult.data\",\n",
    "                 header=None,\n",
    "                 names=[\"age\", \"workclass\", \"fnlwgt\", \"education\", \"education-num\", \"marital-status\",\n",
    "                        \"occupation\", \"relationship\", \"race\", \"sex\", \"capital-gain\", \"capital-loss\",\n",
    "                        \"hours-per-week\", \"native-country\", \"income\"])"
   ]
  },
  {
   "cell_type": "code",
   "execution_count": 6,
   "id": "9612ae92",
   "metadata": {},
   "outputs": [
    {
     "data": {
      "text/html": [
       "<div>\n",
       "<style scoped>\n",
       "    .dataframe tbody tr th:only-of-type {\n",
       "        vertical-align: middle;\n",
       "    }\n",
       "\n",
       "    .dataframe tbody tr th {\n",
       "        vertical-align: top;\n",
       "    }\n",
       "\n",
       "    .dataframe thead th {\n",
       "        text-align: right;\n",
       "    }\n",
       "</style>\n",
       "<table border=\"1\" class=\"dataframe\">\n",
       "  <thead>\n",
       "    <tr style=\"text-align: right;\">\n",
       "      <th></th>\n",
       "      <th>age</th>\n",
       "      <th>workclass</th>\n",
       "      <th>fnlwgt</th>\n",
       "      <th>education</th>\n",
       "      <th>education-num</th>\n",
       "      <th>marital-status</th>\n",
       "      <th>occupation</th>\n",
       "      <th>relationship</th>\n",
       "      <th>race</th>\n",
       "      <th>sex</th>\n",
       "      <th>capital-gain</th>\n",
       "      <th>capital-loss</th>\n",
       "      <th>hours-per-week</th>\n",
       "      <th>native-country</th>\n",
       "      <th>income</th>\n",
       "    </tr>\n",
       "  </thead>\n",
       "  <tbody>\n",
       "    <tr>\n",
       "      <th>12210</th>\n",
       "      <td>33</td>\n",
       "      <td>Private</td>\n",
       "      <td>232475</td>\n",
       "      <td>HS-grad</td>\n",
       "      <td>9</td>\n",
       "      <td>Married-civ-spouse</td>\n",
       "      <td>Craft-repair</td>\n",
       "      <td>Husband</td>\n",
       "      <td>White</td>\n",
       "      <td>Male</td>\n",
       "      <td>0</td>\n",
       "      <td>0</td>\n",
       "      <td>40</td>\n",
       "      <td>United-States</td>\n",
       "      <td>&gt;50K</td>\n",
       "    </tr>\n",
       "  </tbody>\n",
       "</table>\n",
       "</div>"
      ],
      "text/plain": [
       "       age workclass  fnlwgt education  education-num       marital-status  \\\n",
       "12210   33   Private  232475   HS-grad              9   Married-civ-spouse   \n",
       "\n",
       "          occupation relationship    race    sex  capital-gain  capital-loss  \\\n",
       "12210   Craft-repair      Husband   White   Male             0             0   \n",
       "\n",
       "       hours-per-week  native-country income  \n",
       "12210              40   United-States   >50K  "
      ]
     },
     "execution_count": 6,
     "metadata": {},
     "output_type": "execute_result"
    }
   ],
   "source": [
    "df.sample()"
   ]
  },
  {
   "cell_type": "code",
   "execution_count": 8,
   "id": "50705a0a",
   "metadata": {},
   "outputs": [
    {
     "ename": "ImportError",
     "evalue": "dlopen(/Users/krystian.safjan/.virtualenvs/blognb/lib/python3.10/site-packages/pydp/pydp.so, 0x0002): tried: '/Users/krystian.safjan/.virtualenvs/blognb/lib/python3.10/site-packages/pydp/pydp.so' (not a mach-o file), '/System/Volumes/Preboot/Cryptexes/OS/Users/krystian.safjan/.virtualenvs/blognb/lib/python3.10/site-packages/pydp/pydp.so' (no such file), '/Users/krystian.safjan/.virtualenvs/blognb/lib/python3.10/site-packages/pydp/pydp.so' (not a mach-o file)",
     "output_type": "error",
     "traceback": [
      "\u001b[0;31m---------------------------------------------------------------------------\u001b[0m",
      "\u001b[0;31mImportError\u001b[0m                               Traceback (most recent call last)",
      "Cell \u001b[0;32mIn[8], line 2\u001b[0m\n\u001b[1;32m      1\u001b[0m \u001b[38;5;66;03m# Import PyDP\u001b[39;00m\n\u001b[0;32m----> 2\u001b[0m \u001b[38;5;28;01mimport\u001b[39;00m \u001b[38;5;21;01mpydp\u001b[39;00m \u001b[38;5;28;01mas\u001b[39;00m \u001b[38;5;21;01mdp\u001b[39;00m\n\u001b[1;32m      3\u001b[0m \u001b[38;5;66;03m# Import the Bounded Mean algorithm\u001b[39;00m\n\u001b[1;32m      4\u001b[0m \u001b[38;5;28;01mfrom\u001b[39;00m \u001b[38;5;21;01mpydp\u001b[39;00m\u001b[38;5;21;01m.\u001b[39;00m\u001b[38;5;21;01malgorithms\u001b[39;00m\u001b[38;5;21;01m.\u001b[39;00m\u001b[38;5;21;01mlaplacian\u001b[39;00m \u001b[38;5;28;01mimport\u001b[39;00m BoundedMean\n",
      "File \u001b[0;32m~/.virtualenvs/blognb/lib/python3.10/site-packages/pydp/__init__.py:1\u001b[0m\n\u001b[0;32m----> 1\u001b[0m \u001b[38;5;28;01mfrom\u001b[39;00m \u001b[38;5;21;01m.\u001b[39;00m\u001b[38;5;21;01mpydp\u001b[39;00m \u001b[38;5;28;01mimport\u001b[39;00m \u001b[38;5;241m*\u001b[39m\n",
      "\u001b[0;31mImportError\u001b[0m: dlopen(/Users/krystian.safjan/.virtualenvs/blognb/lib/python3.10/site-packages/pydp/pydp.so, 0x0002): tried: '/Users/krystian.safjan/.virtualenvs/blognb/lib/python3.10/site-packages/pydp/pydp.so' (not a mach-o file), '/System/Volumes/Preboot/Cryptexes/OS/Users/krystian.safjan/.virtualenvs/blognb/lib/python3.10/site-packages/pydp/pydp.so' (no such file), '/Users/krystian.safjan/.virtualenvs/blognb/lib/python3.10/site-packages/pydp/pydp.so' (not a mach-o file)"
     ]
    }
   ],
   "source": [
    "# Import PyDP\n",
    "import pydp as dp\n",
    "# Import the Bounded Mean algorithm\n",
    "from pydp.algorithms.laplacian import BoundedMean\n",
    "\n",
    "epsilon = 1.0"
   ]
  },
  {
   "cell_type": "code",
   "execution_count": 7,
   "id": "a85cfab2",
   "metadata": {},
   "outputs": [
    {
     "ename": "ImportError",
     "evalue": "dlopen(/Users/krystian.safjan/.virtualenvs/blognb/lib/python3.10/site-packages/pydp/pydp.so, 0x0002): tried: '/Users/krystian.safjan/.virtualenvs/blognb/lib/python3.10/site-packages/pydp/pydp.so' (not a mach-o file), '/System/Volumes/Preboot/Cryptexes/OS/Users/krystian.safjan/.virtualenvs/blognb/lib/python3.10/site-packages/pydp/pydp.so' (no such file), '/Users/krystian.safjan/.virtualenvs/blognb/lib/python3.10/site-packages/pydp/pydp.so' (not a mach-o file)",
     "output_type": "error",
     "traceback": [
      "\u001b[0;31m---------------------------------------------------------------------------\u001b[0m",
      "\u001b[0;31mImportError\u001b[0m                               Traceback (most recent call last)",
      "Cell \u001b[0;32mIn[7], line 2\u001b[0m\n\u001b[1;32m      1\u001b[0m \u001b[38;5;66;03m# Import PyDP\u001b[39;00m\n\u001b[0;32m----> 2\u001b[0m \u001b[38;5;28;01mimport\u001b[39;00m \u001b[38;5;21;01mpydp\u001b[39;00m \u001b[38;5;28;01mas\u001b[39;00m \u001b[38;5;21;01mdp\u001b[39;00m\n\u001b[1;32m      3\u001b[0m \u001b[38;5;66;03m# Import the Bounded Mean algorithm\u001b[39;00m\n\u001b[1;32m      4\u001b[0m \u001b[38;5;28;01mfrom\u001b[39;00m \u001b[38;5;21;01mpydp\u001b[39;00m\u001b[38;5;21;01m.\u001b[39;00m\u001b[38;5;21;01malgorithms\u001b[39;00m\u001b[38;5;21;01m.\u001b[39;00m\u001b[38;5;21;01mlaplacian\u001b[39;00m \u001b[38;5;28;01mimport\u001b[39;00m BoundedMean\n",
      "File \u001b[0;32m~/.virtualenvs/blognb/lib/python3.10/site-packages/pydp/__init__.py:1\u001b[0m\n\u001b[0;32m----> 1\u001b[0m \u001b[38;5;28;01mfrom\u001b[39;00m \u001b[38;5;21;01m.\u001b[39;00m\u001b[38;5;21;01mpydp\u001b[39;00m \u001b[38;5;28;01mimport\u001b[39;00m \u001b[38;5;241m*\u001b[39m\n",
      "\u001b[0;31mImportError\u001b[0m: dlopen(/Users/krystian.safjan/.virtualenvs/blognb/lib/python3.10/site-packages/pydp/pydp.so, 0x0002): tried: '/Users/krystian.safjan/.virtualenvs/blognb/lib/python3.10/site-packages/pydp/pydp.so' (not a mach-o file), '/System/Volumes/Preboot/Cryptexes/OS/Users/krystian.safjan/.virtualenvs/blognb/lib/python3.10/site-packages/pydp/pydp.so' (no such file), '/Users/krystian.safjan/.virtualenvs/blognb/lib/python3.10/site-packages/pydp/pydp.so' (not a mach-o file)"
     ]
    }
   ],
   "source": [
    "# apply differential privacy to age\n",
    "bm = BoundedMean(epsilon=epsilon, lower=0, upper=100)\n",
    "df[\"age\"] = df[\"age\"].apply(lambda x: bm.quick_result(x))\n",
    "\n",
    "# apply differential privacy to education-num\n",
    "bm = BoundedMean(epsilon=epsilon, lower=0, upper=16)\n",
    "df[\"education-num\"] = df[\"education-num\"].apply(lambda x: bm.quick_result(x))"
   ]
  },
  {
   "cell_type": "code",
   "execution_count": null,
   "id": "3f46ff43",
   "metadata": {},
   "outputs": [],
   "source": []
  }
 ],
 "metadata": {
  "hide_input": false,
  "kernelspec": {
   "display_name": "blognb",
   "language": "python",
   "name": "blognb"
  },
  "language_info": {
   "codemirror_mode": {
    "name": "ipython",
    "version": 3
   },
   "file_extension": ".py",
   "mimetype": "text/x-python",
   "name": "python",
   "nbconvert_exporter": "python",
   "pygments_lexer": "ipython3",
   "version": "3.10.4"
  },
  "toc": {
   "base_numbering": 1,
   "nav_menu": {},
   "number_sections": false,
   "sideBar": true,
   "skip_h1_title": false,
   "title_cell": "Table of Contents",
   "title_sidebar": "Contents",
   "toc_cell": false,
   "toc_position": {},
   "toc_section_display": true,
   "toc_window_display": false
  }
 },
 "nbformat": 4,
 "nbformat_minor": 5
}
