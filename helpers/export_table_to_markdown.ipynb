{
 "cells": [
  {
   "cell_type": "code",
   "execution_count": 3,
   "id": "d70a256f360c9511",
   "metadata": {
    "collapsed": false,
    "jupyter": {
     "outputs_hidden": false
    }
   },
   "outputs": [
    {
     "name": "stdout",
     "output_type": "stream",
     "text": [
      "| weekday   |   temperature |   precipitation |\n",
      "|:----------|--------------:|----------------:|\n",
      "| Monday    |            20 |             100 |\n",
      "| Thursday  |            30 |             200 |\n",
      "| Wednesday |            25 |             150 |\n"
     ]
    }
   ],
   "source": [
    "import pandas as pd\n",
    "\n",
    "# prepare some data for demonstration\n",
    "df = pd.DataFrame({\n",
    "    \"weekday\": [\"Monday\", \"Thursday\", \"Wednesday\"],\n",
    "    \"temperature\": [20, 30, 25],\n",
    "    \"precipitation\": [100, 200, 150],\n",
    "}).set_index(\"weekday\")\n",
    "\n",
    "print(df.to_markdown())"
   ]
  },
  {
   "cell_type": "code",
   "execution_count": 4,
   "id": "bd95db48-b03f-478a-a89f-fc6cb483a609",
   "metadata": {},
   "outputs": [
    {
     "name": "stdout",
     "output_type": "stream",
     "text": [
      "| weekday   |   temperature |   precipitation |\n",
      "|:----------|--------------:|----------------:|\n",
      "| Monday    |            20 |             100 |\n",
      "| Thursday  |            30 |             200 |\n",
      "| Wednesday |            25 |             150 |\n"
     ]
    }
   ],
   "source": [
    "from tabulate import tabulate\n",
    "\n",
    "print(tabulate(df, tablefmt=\"pipe\", headers=\"keys\"))"
   ]
  },
  {
   "cell_type": "code",
   "execution_count": 9,
   "id": "ff5cf1fe-23eb-44a6-a8c1-513850fa9afd",
   "metadata": {},
   "outputs": [],
   "source": [
    "styled_df = df.style.background_gradient(subset=['temperature'],\n",
    "\t\t\t  cmap='BuGn')"
   ]
  },
  {
   "cell_type": "code",
   "execution_count": 13,
   "id": "28c013d5-afcd-450c-8d3b-4f770f473022",
   "metadata": {},
   "outputs": [],
   "source": [
    "html = styled_df.to_html()"
   ]
  },
  {
   "cell_type": "code",
   "execution_count": 14,
   "id": "73933a58-b21e-435e-9374-6ee980bb93d7",
   "metadata": {},
   "outputs": [
    {
     "name": "stdout",
     "output_type": "stream",
     "text": [
      "<style type=\"text/css\">\n",
      "#T_7a378_row0_col0 {\n",
      "  background-color: #f7fcfd;\n",
      "  color: #000000;\n",
      "}\n",
      "#T_7a378_row1_col0 {\n",
      "  background-color: #00441b;\n",
      "  color: #f1f1f1;\n",
      "}\n",
      "#T_7a378_row2_col0 {\n",
      "  background-color: #65c2a3;\n",
      "  color: #000000;\n",
      "}\n",
      "</style>\n",
      "<table id=\"T_7a378\">\n",
      "  <thead>\n",
      "    <tr>\n",
      "      <th class=\"blank level0\" >&nbsp;</th>\n",
      "      <th id=\"T_7a378_level0_col0\" class=\"col_heading level0 col0\" >temperature</th>\n",
      "      <th id=\"T_7a378_level0_col1\" class=\"col_heading level0 col1\" >precipitation</th>\n",
      "    </tr>\n",
      "    <tr>\n",
      "      <th class=\"index_name level0\" >weekday</th>\n",
      "      <th class=\"blank col0\" >&nbsp;</th>\n",
      "      <th class=\"blank col1\" >&nbsp;</th>\n",
      "    </tr>\n",
      "  </thead>\n",
      "  <tbody>\n",
      "    <tr>\n",
      "      <th id=\"T_7a378_level0_row0\" class=\"row_heading level0 row0\" >Monday</th>\n",
      "      <td id=\"T_7a378_row0_col0\" class=\"data row0 col0\" >20</td>\n",
      "      <td id=\"T_7a378_row0_col1\" class=\"data row0 col1\" >100</td>\n",
      "    </tr>\n",
      "    <tr>\n",
      "      <th id=\"T_7a378_level0_row1\" class=\"row_heading level0 row1\" >Thursday</th>\n",
      "      <td id=\"T_7a378_row1_col0\" class=\"data row1 col0\" >30</td>\n",
      "      <td id=\"T_7a378_row1_col1\" class=\"data row1 col1\" >200</td>\n",
      "    </tr>\n",
      "    <tr>\n",
      "      <th id=\"T_7a378_level0_row2\" class=\"row_heading level0 row2\" >Wednesday</th>\n",
      "      <td id=\"T_7a378_row2_col0\" class=\"data row2 col0\" >25</td>\n",
      "      <td id=\"T_7a378_row2_col1\" class=\"data row2 col1\" >150</td>\n",
      "    </tr>\n",
      "  </tbody>\n",
      "</table>\n",
      "\n"
     ]
    }
   ],
   "source": [
    "print(html)"
   ]
  },
  {
   "cell_type": "code",
   "execution_count": null,
   "id": "7d189897-b33f-4f12-a7d9-539afafa11b3",
   "metadata": {},
   "outputs": [],
   "source": []
  }
 ],
 "metadata": {
  "kernelspec": {
   "display_name": "ai",
   "language": "python",
   "name": "ai"
  },
  "language_info": {
   "codemirror_mode": {
    "name": "ipython",
    "version": 3
   },
   "file_extension": ".py",
   "mimetype": "text/x-python",
   "name": "python",
   "nbconvert_exporter": "python",
   "pygments_lexer": "ipython3",
   "version": "3.11.6"
  }
 },
 "nbformat": 4,
 "nbformat_minor": 5
}
